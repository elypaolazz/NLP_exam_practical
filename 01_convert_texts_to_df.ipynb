{
 "cells": [
  {
   "cell_type": "markdown",
   "metadata": {},
   "source": [
    "## **Convert Texts Data into a Pandas DataFrame**"
   ]
  },
  {
   "cell_type": "markdown",
   "metadata": {},
   "source": [
    "#### **Import Libraries**"
   ]
  },
  {
   "cell_type": "code",
   "execution_count": 1,
   "metadata": {},
   "outputs": [
    {
     "name": "stdout",
     "output_type": "stream",
     "text": [
      "> Libraries Imported\n"
     ]
    }
   ],
   "source": [
    "import pandas as pd\n",
    "from tqdm import tqdm\n",
    "\n",
    "print(\"> Libraries Imported\")"
   ]
  },
  {
   "cell_type": "markdown",
   "metadata": {},
   "source": [
    "#### **Obtain Datasets**\n",
    "\n",
    "Write a function that takes in input the original practical data and the classes and return a DataFrame:"
   ]
  },
  {
   "cell_type": "code",
   "execution_count": 2,
   "metadata": {},
   "outputs": [],
   "source": [
    "def get_df_from_txt(data_path, class_to_set):\n",
    "    \n",
    "    # prepare placeholder\n",
    "    documents_id = []\n",
    "    documents = []\n",
    "\n",
    "    with open(data_path, 'r') as f:\n",
    "\n",
    "        # document text placeholder\n",
    "        temp_str = \"\"\n",
    "        \n",
    "        # iterate over lines\n",
    "        lines = f.readlines()\n",
    "        for line in lines:\n",
    "\n",
    "            # clean the line\n",
    "            line_clean = line.rstrip()\n",
    "\n",
    "            if \"<doc\" in line:\n",
    "                documents_id.append(line_clean[10:-1])\n",
    "\n",
    "            elif \"</doc>\" in line:\n",
    "                documents.append(temp_str)\n",
    "                temp_str = \"\"\n",
    "            else:\n",
    "                temp_str += line_clean\n",
    "\n",
    "    # create df from list\n",
    "    df_class = pd.DataFrame(\n",
    "        list(zip(documents_id, documents)),\n",
    "        columns =['doc_id', 'doc_text']\n",
    "        )\n",
    "\n",
    "    # set class\n",
    "    df_class[\"doc_class\"] = class_to_set\n",
    "\n",
    "    # show results\n",
    "    return df_class"
   ]
  },
  {
   "cell_type": "markdown",
   "metadata": {},
   "source": [
    "Apply the function on the two classes data:"
   ]
  },
  {
   "cell_type": "code",
   "execution_count": 3,
   "metadata": {},
   "outputs": [
    {
     "data": {
      "text/plain": [
       "(1373, 3)"
      ]
     },
     "execution_count": 3,
     "metadata": {},
     "output_type": "execute_result"
    }
   ],
   "source": [
    "df_class_0 = get_df_from_txt(\n",
    "    data_path = \"data/original_texts/linear_class_0.txt\", \n",
    "    class_to_set = 0\n",
    "    )\n",
    "\n",
    "df_class_0.shape"
   ]
  },
  {
   "cell_type": "code",
   "execution_count": 4,
   "metadata": {},
   "outputs": [
    {
     "data": {
      "text/plain": [
       "(2278, 3)"
      ]
     },
     "execution_count": 4,
     "metadata": {},
     "output_type": "execute_result"
    }
   ],
   "source": [
    "df_class_1 = get_df_from_txt(\n",
    "    data_path = \"data/original_texts/linear_class_1.txt\", \n",
    "    class_to_set = 1\n",
    "    )\n",
    "\n",
    "df_class_1.shape"
   ]
  },
  {
   "cell_type": "markdown",
   "metadata": {},
   "source": [
    "Combine the two DataFrame:"
   ]
  },
  {
   "cell_type": "code",
   "execution_count": 5,
   "metadata": {},
   "outputs": [
    {
     "data": {
      "text/html": [
       "<div>\n",
       "<style scoped>\n",
       "    .dataframe tbody tr th:only-of-type {\n",
       "        vertical-align: middle;\n",
       "    }\n",
       "\n",
       "    .dataframe tbody tr th {\n",
       "        vertical-align: top;\n",
       "    }\n",
       "\n",
       "    .dataframe thead th {\n",
       "        text-align: right;\n",
       "    }\n",
       "</style>\n",
       "<table border=\"1\" class=\"dataframe\">\n",
       "  <thead>\n",
       "    <tr style=\"text-align: right;\">\n",
       "      <th></th>\n",
       "      <th>doc_id</th>\n",
       "      <th>doc_text</th>\n",
       "      <th>doc_class</th>\n",
       "    </tr>\n",
       "  </thead>\n",
       "  <tbody>\n",
       "    <tr>\n",
       "      <th>0</th>\n",
       "      <td>Tuesday, January 29, 2019</td>\n",
       "      <td>18 months.In some ways it seems like an eterni...</td>\n",
       "      <td>0</td>\n",
       "    </tr>\n",
       "    <tr>\n",
       "      <th>1</th>\n",
       "      <td>Sunday, July 29, 2018</td>\n",
       "      <td>One year.How can time seem fast and slow at th...</td>\n",
       "      <td>0</td>\n",
       "    </tr>\n",
       "    <tr>\n",
       "      <th>2</th>\n",
       "      <td>Wednesday, May 16, 2018</td>\n",
       "      <td>It's been a while since I've last written.Life...</td>\n",
       "      <td>0</td>\n",
       "    </tr>\n",
       "    <tr>\n",
       "      <th>3</th>\n",
       "      <td>Tuesday, January 16, 2018</td>\n",
       "      <td>It's been a while since my last post.Partly be...</td>\n",
       "      <td>0</td>\n",
       "    </tr>\n",
       "    <tr>\n",
       "      <th>4</th>\n",
       "      <td>Thursday, November 16, 2017</td>\n",
       "      <td>Last Sunday was our 3rd annual Purple Boat Flo...</td>\n",
       "      <td>0</td>\n",
       "    </tr>\n",
       "    <tr>\n",
       "      <th>...</th>\n",
       "      <td>...</td>\n",
       "      <td>...</td>\n",
       "      <td>...</td>\n",
       "    </tr>\n",
       "    <tr>\n",
       "      <th>2273</th>\n",
       "      <td>Thursday, June 4, 2009</td>\n",
       "      <td>My Neurologist has recently prescribed Physica...</td>\n",
       "      <td>1</td>\n",
       "    </tr>\n",
       "    <tr>\n",
       "      <th>2274</th>\n",
       "      <td>Thursday, June 4, 2009</td>\n",
       "      <td>Sounds like something high society folks do.La...</td>\n",
       "      <td>1</td>\n",
       "    </tr>\n",
       "    <tr>\n",
       "      <th>2275</th>\n",
       "      <td>Saturday, May 30, 2009</td>\n",
       "      <td>Life, and how it progresses is an interesting ...</td>\n",
       "      <td>1</td>\n",
       "    </tr>\n",
       "    <tr>\n",
       "      <th>2276</th>\n",
       "      <td>Thursday, May 28, 2009</td>\n",
       "      <td>I am a retired Navy Master Chief Gunner's Mate...</td>\n",
       "      <td>1</td>\n",
       "    </tr>\n",
       "    <tr>\n",
       "      <th>2277</th>\n",
       "      <td>Monday, May 25, 2009</td>\n",
       "      <td>The Beginning:</td>\n",
       "      <td>1</td>\n",
       "    </tr>\n",
       "  </tbody>\n",
       "</table>\n",
       "<p>3651 rows × 3 columns</p>\n",
       "</div>"
      ],
      "text/plain": [
       "                           doc_id  \\\n",
       "0       Tuesday, January 29, 2019   \n",
       "1           Sunday, July 29, 2018   \n",
       "2         Wednesday, May 16, 2018   \n",
       "3       Tuesday, January 16, 2018   \n",
       "4     Thursday, November 16, 2017   \n",
       "...                           ...   \n",
       "2273       Thursday, June 4, 2009   \n",
       "2274       Thursday, June 4, 2009   \n",
       "2275       Saturday, May 30, 2009   \n",
       "2276       Thursday, May 28, 2009   \n",
       "2277         Monday, May 25, 2009   \n",
       "\n",
       "                                               doc_text  doc_class  \n",
       "0     18 months.In some ways it seems like an eterni...          0  \n",
       "1     One year.How can time seem fast and slow at th...          0  \n",
       "2     It's been a while since I've last written.Life...          0  \n",
       "3     It's been a while since my last post.Partly be...          0  \n",
       "4     Last Sunday was our 3rd annual Purple Boat Flo...          0  \n",
       "...                                                 ...        ...  \n",
       "2273  My Neurologist has recently prescribed Physica...          1  \n",
       "2274  Sounds like something high society folks do.La...          1  \n",
       "2275  Life, and how it progresses is an interesting ...          1  \n",
       "2276  I am a retired Navy Master Chief Gunner's Mate...          1  \n",
       "2277                                     The Beginning:          1  \n",
       "\n",
       "[3651 rows x 3 columns]"
      ]
     },
     "execution_count": 5,
     "metadata": {},
     "output_type": "execute_result"
    }
   ],
   "source": [
    "frames = [df_class_0, df_class_1]\n",
    "\n",
    "complete_df = pd.concat(frames)\n",
    "complete_df"
   ]
  },
  {
   "cell_type": "markdown",
   "metadata": {},
   "source": [
    "Save the complete DataFrame."
   ]
  },
  {
   "cell_type": "code",
   "execution_count": 6,
   "metadata": {},
   "outputs": [],
   "source": [
    "complete_df.to_csv(\"data/alz_texts.csv\", index=False)"
   ]
  }
 ],
 "metadata": {
  "interpreter": {
   "hash": "512d5e56612ffb1194a6862905bf1d809401f324f29f44e6897b2e7f7b39bca6"
  },
  "kernelspec": {
   "display_name": "Python 3.9.7 ('HPA_PROJ')",
   "language": "python",
   "name": "python3"
  },
  "language_info": {
   "codemirror_mode": {
    "name": "ipython",
    "version": 3
   },
   "file_extension": ".py",
   "mimetype": "text/x-python",
   "name": "python",
   "nbconvert_exporter": "python",
   "pygments_lexer": "ipython3",
   "version": "3.8.12"
  },
  "orig_nbformat": 4
 },
 "nbformat": 4,
 "nbformat_minor": 2
}
